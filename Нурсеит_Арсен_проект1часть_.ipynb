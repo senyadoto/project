{
  "nbformat": 4,
  "nbformat_minor": 0,
  "metadata": {
    "colab": {
      "provenance": []
    },
    "kernelspec": {
      "name": "python3",
      "display_name": "Python 3"
    },
    "language_info": {
      "name": "python"
    }
  },
  "cells": [
    {
      "cell_type": "markdown",
      "source": [
        "1.\n",
        "Контент-план для раздела \"Предварительная обработка данных\":\n",
        "Общее описание этапа:\n",
        "\n",
        "Краткое введение в предварительную обработку данных.\n",
        "Загрузка данных в pandas DataFrame:\n",
        "\n",
        "Объяснение, как загрузить данные из CSV-файла в pandas DataFrame.\n",
        "Пример кода для загрузки данных и отображения первых нескольких строк.\n",
        "Удаление дубликатов:\n",
        "\n",
        "Объяснение важности удаления дубликатов в данных.\n",
        "Пример кода для удаления дубликатов.\n",
        "Заполнение пропущенных значений:\n",
        "\n",
        "Объяснение, почему важно обрабатывать пропущенные значения.\n",
        "Пример кода для заполнения пропущенных значений."
      ],
      "metadata": {
        "id": "I-NRpw9DcF3g"
      }
    },
    {
      "cell_type": "markdown",
      "source": [
        "2.Контент-план для раздела \"Гистограмма распределения данных\":\n",
        "Общее описание этапа:\n",
        "\n",
        "Введение в визуализацию данных с использованием гистограмм.\n",
        "Построение гистограммы распределения возраста:\n",
        "\n",
        "Объяснение, почему важно анализировать распределение возраста.\n",
        "Пример кода для построения гистограммы распределения возраста.\n"
      ],
      "metadata": {
        "id": "mZ_uKgz3czJn"
      }
    },
    {
      "cell_type": "markdown",
      "source": [
        "3.Контент-план для раздела \"Boxplot для анализа данных\":\n",
        "Общее описание этапа:\n",
        "\n",
        "Краткое введение в анализ данных с использованием boxplot.\n",
        "Построение boxplot для анализа доходов:\n",
        "\n",
        "Объяснение, как использовать boxplot для анализа распределения доходов.\n",
        "Пример кода для построения boxplot для анализа распределения доходов."
      ],
      "metadata": {
        "id": "oRGfmg_8c3oB"
      }
    },
    {
      "cell_type": "markdown",
      "source": [
        "Пример построения гистограммы распределения возраста:"
      ],
      "metadata": {
        "id": "NXDiHGGPdOuM"
      }
    },
    {
      "cell_type": "code",
      "source": [
        "import matplotlib.pyplot as plt\n",
        "\n",
        "plt.hist(data['age'], bins=20, color='skyblue', edgecolor='black')\n",
        "plt.xlabel('Age')\n",
        "plt.ylabel('Count')\n",
        "plt.title('Age Distribution')\n",
        "plt.show()\n"
      ],
      "metadata": {
        "colab": {
          "base_uri": "https://localhost:8080/",
          "height": 472
        },
        "id": "sFyhaOnLddcp",
        "outputId": "a6a9025f-eed9-4d4f-cff5-cbd92a11e0f0"
      },
      "execution_count": 7,
      "outputs": [
        {
          "output_type": "display_data",
          "data": {
            "text/plain": [
              "<Figure size 640x480 with 1 Axes>"
            ],
            "image/png": "[encoded data removed]"
          },
          "metadata": {}
        }
      ]
    },
    {
      "cell_type": "markdown",
      "source": [
        "Пример построения boxplot для анализа доходов:"
      ],
      "metadata": {
        "id": "STeY7yyWdf3X"
      }
    },
    {
      "cell_type": "code",
      "source": [
        "import seaborn as sns\n",
        "\n",
        "plt.figure(figsize=(8, 6))\n",
        "sns.boxplot(x='income', data=data, color='lightblue')\n",
        "plt.xlabel('Income')\n",
        "plt.title('Income Distribution')\n",
        "plt.show()\n"
      ],
      "metadata": {
        "colab": {
          "base_uri": "https://localhost:8080/",
          "height": 564
        },
        "id": "myWNZA1PdjeX",
        "outputId": "092af574-32bf-4ac2-96c0-170be501051c"
      },
      "execution_count": 6,
      "outputs": [
        {
          "output_type": "display_data",
          "data": {
            "text/plain": [
              "<Figure size 800x600 with 1 Axes>"
            ],
            "image/png": "[encoded data removed]"
          },
          "metadata": {}
        }
      ]
    },
    {
      "cell_type": "markdown",
      "source": [
        "пример работы кода анализа прогнозирования пополнения брокерских счетов"
      ],
      "metadata": {
        "id": "UGDlQLaed1tb"
      }
    },
    {
      "cell_type": "code",
      "source": [
        "import pandas as pd\n",
        "\n",
        "\n",
        "data = pd.read_csv('data.csv')\n",
        "\n",
        "features = ['age', 'income', 'transactions', 'balance']\n",
        "target = 'account_replenishment'\n",
        "\n",
        "X = data[features]\n",
        "y = data[target]\n",
        "\n",
        "X_train, X_test, y_train, y_test = train_test_split(X, y, test_size=0.2, random_state=42)\n",
        "\n",
        "\n",
        "model = LogisticRegression()\n",
        "model.fit(X_train, y_train)\n",
        "\n",
        "\n",
        "y_pred = model.predict(X_test)\n",
        "\n",
        "accuracy = accuracy_score(y_test, y_pred)\n",
        "conf_matrix = confusion_matrix(y_test, y_pred)\n",
        "class_report = classification_report(y_test, y_pred)\n",
        "\n",
        "print(\"Accuracy:\", accuracy)\n",
        "print(\"Confusion Matrix:\\n\", conf_matrix)\n",
        "print(\"Classification Report:\\n\", class_report)\n"
      ],
      "metadata": {
        "colab": {
          "base_uri": "https://localhost:8080/"
        },
        "id": "dRU9NoCAeJPV",
        "outputId": "82868690-ebd4-44a0-849c-90760d2149fc"
      },
      "execution_count": 5,
      "outputs": [
        {
          "output_type": "stream",
          "name": "stdout",
          "text": [
            "Accuracy: 0.0\n",
            "Confusion Matrix:\n",
            " [[0 0]\n",
            " [2 0]]\n",
            "Classification Report:\n",
            "               precision    recall  f1-score   support\n",
            "\n",
            "           0       0.00      0.00      0.00       0.0\n",
            "           1       0.00      0.00      0.00       2.0\n",
            "\n",
            "    accuracy                           0.00       2.0\n",
            "   macro avg       0.00      0.00      0.00       2.0\n",
            "weighted avg       0.00      0.00      0.00       2.0\n",
            "\n"
          ]
        },
        {
          "output_type": "stream",
          "name": "stderr",
          "text": [
            "/usr/local/lib/python3.10/dist-packages/sklearn/metrics/_classification.py:1344: UndefinedMetricWarning: Precision and F-score are ill-defined and being set to 0.0 in labels with no predicted samples. Use `zero_division` parameter to control this behavior.\n",
            "  _warn_prf(average, modifier, msg_start, len(result))\n",
            "/usr/local/lib/python3.10/dist-packages/sklearn/metrics/_classification.py:1344: UndefinedMetricWarning: Recall and F-score are ill-defined and being set to 0.0 in labels with no true samples. Use `zero_division` parameter to control this behavior.\n",
            "  _warn_prf(average, modifier, msg_start, len(result))\n",
            "/usr/local/lib/python3.10/dist-packages/sklearn/metrics/_classification.py:1344: UndefinedMetricWarning: Precision and F-score are ill-defined and being set to 0.0 in labels with no predicted samples. Use `zero_division` parameter to control this behavior.\n",
            "  _warn_prf(average, modifier, msg_start, len(result))\n",
            "/usr/local/lib/python3.10/dist-packages/sklearn/metrics/_classification.py:1344: UndefinedMetricWarning: Recall and F-score are ill-defined and being set to 0.0 in labels with no true samples. Use `zero_division` parameter to control this behavior.\n",
            "  _warn_prf(average, modifier, msg_start, len(result))\n",
            "/usr/local/lib/python3.10/dist-packages/sklearn/metrics/_classification.py:1344: UndefinedMetricWarning: Precision and F-score are ill-defined and being set to 0.0 in labels with no predicted samples. Use `zero_division` parameter to control this behavior.\n",
            "  _warn_prf(average, modifier, msg_start, len(result))\n",
            "/usr/local/lib/python3.10/dist-packages/sklearn/metrics/_classification.py:1344: UndefinedMetricWarning: Recall and F-score are ill-defined and being set to 0.0 in labels with no true samples. Use `zero_division` parameter to control this behavior.\n",
            "  _warn_prf(average, modifier, msg_start, len(result))\n"
          ]
        }
      ]
    }
  ]
}